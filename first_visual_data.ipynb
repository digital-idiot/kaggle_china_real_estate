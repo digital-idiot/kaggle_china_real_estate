{
 "cells": [
  {
   "cell_type": "code",
   "execution_count": null,
   "id": "6bd61ec6-d9ea-41a3-8d89-9e070954760b",
   "metadata": {},
   "outputs": [],
   "source": [
    "## First we will visualize the train data"
   ]
  },
  {
   "cell_type": "code",
   "execution_count": 1,
   "id": "0526ab05-3b2d-4fa7-91bd-cea2813be118",
   "metadata": {},
   "outputs": [],
   "source": [
    "import numpy as np\n",
    "import pandas as pd\n",
    "import sklearn"
   ]
  },
  {
   "cell_type": "code",
   "execution_count": null,
   "id": "7dbffad3-917a-4d33-9dae-e09955720a74",
   "metadata": {},
   "outputs": [],
   "source": []
  }
 ],
 "metadata": {
  "kernelspec": {
   "display_name": "Python 3 (ipykernel)",
   "language": "python",
   "name": "python3"
  },
  "language_info": {
   "codemirror_mode": {
    "name": "ipython",
    "version": 3
   },
   "file_extension": ".py",
   "mimetype": "text/x-python",
   "name": "python",
   "nbconvert_exporter": "python",
   "pygments_lexer": "ipython3",
   "version": "3.13.7"
  }
 },
 "nbformat": 4,
 "nbformat_minor": 5
}
